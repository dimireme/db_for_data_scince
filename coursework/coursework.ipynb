{
 "cells": [
  {
   "cell_type": "code",
   "execution_count": 1,
   "metadata": {},
   "outputs": [],
   "source": [
    "import pandas as pd\n",
    "import numpy as np"
   ]
  },
  {
   "cell_type": "code",
   "execution_count": 2,
   "metadata": {},
   "outputs": [],
   "source": [
    "DATASET_PATH = '../databases/orders_all.csv'\n",
    "PREPARED_DATASET_PATH = '../databases/orders_all_prepared.csv'\n",
    "RESULT_DATASET_PATH = '../databases/coursework.csv'"
   ]
  },
  {
   "cell_type": "markdown",
   "metadata": {},
   "source": [
    "Загружаем данные и смотрим основные характеристики."
   ]
  },
  {
   "cell_type": "code",
   "execution_count": 3,
   "metadata": {},
   "outputs": [
    {
     "data": {
      "text/html": [
       "<div>\n",
       "<style scoped>\n",
       "    .dataframe tbody tr th:only-of-type {\n",
       "        vertical-align: middle;\n",
       "    }\n",
       "\n",
       "    .dataframe tbody tr th {\n",
       "        vertical-align: top;\n",
       "    }\n",
       "\n",
       "    .dataframe thead th {\n",
       "        text-align: right;\n",
       "    }\n",
       "</style>\n",
       "<table border=\"1\" class=\"dataframe\">\n",
       "  <thead>\n",
       "    <tr style=\"text-align: right;\">\n",
       "      <th></th>\n",
       "      <th>id_order</th>\n",
       "      <th>id_user</th>\n",
       "      <th>price</th>\n",
       "      <th>o_date</th>\n",
       "    </tr>\n",
       "  </thead>\n",
       "  <tbody>\n",
       "    <tr>\n",
       "      <th>0</th>\n",
       "      <td>129</td>\n",
       "      <td>1</td>\n",
       "      <td>1337</td>\n",
       "      <td>26.04.2013</td>\n",
       "    </tr>\n",
       "    <tr>\n",
       "      <th>1</th>\n",
       "      <td>130</td>\n",
       "      <td>155</td>\n",
       "      <td>182</td>\n",
       "      <td>26.04.2013</td>\n",
       "    </tr>\n",
       "    <tr>\n",
       "      <th>2</th>\n",
       "      <td>131</td>\n",
       "      <td>1</td>\n",
       "      <td>602</td>\n",
       "      <td>26.04.2013</td>\n",
       "    </tr>\n",
       "    <tr>\n",
       "      <th>3</th>\n",
       "      <td>132</td>\n",
       "      <td>1</td>\n",
       "      <td>863</td>\n",
       "      <td>26.04.2013</td>\n",
       "    </tr>\n",
       "    <tr>\n",
       "      <th>4</th>\n",
       "      <td>133</td>\n",
       "      <td>1</td>\n",
       "      <td>2261</td>\n",
       "      <td>29.04.2013</td>\n",
       "    </tr>\n",
       "  </tbody>\n",
       "</table>\n",
       "</div>"
      ],
      "text/plain": [
       "   id_order  id_user  price      o_date\n",
       "0       129        1   1337  26.04.2013\n",
       "1       130      155    182  26.04.2013\n",
       "2       131        1    602  26.04.2013\n",
       "3       132        1    863  26.04.2013\n",
       "4       133        1   2261  29.04.2013"
      ]
     },
     "execution_count": 3,
     "metadata": {},
     "output_type": "execute_result"
    }
   ],
   "source": [
    "df = pd.read_csv(DATASET_PATH, sep=\";\")\n",
    "df.head()"
   ]
  },
  {
   "cell_type": "code",
   "execution_count": 4,
   "metadata": {},
   "outputs": [
    {
     "name": "stdout",
     "output_type": "stream",
     "text": [
      "<class 'pandas.core.frame.DataFrame'>\n",
      "RangeIndex: 4365731 entries, 0 to 4365730\n",
      "Data columns (total 4 columns):\n",
      "id_order    int64\n",
      "id_user     int64\n",
      "price       int64\n",
      "o_date      object\n",
      "dtypes: int64(3), object(1)\n",
      "memory usage: 133.2+ MB\n"
     ]
    }
   ],
   "source": [
    "df.info()"
   ]
  },
  {
   "cell_type": "code",
   "execution_count": 5,
   "metadata": {},
   "outputs": [
    {
     "data": {
      "text/html": [
       "<div>\n",
       "<style scoped>\n",
       "    .dataframe tbody tr th:only-of-type {\n",
       "        vertical-align: middle;\n",
       "    }\n",
       "\n",
       "    .dataframe tbody tr th {\n",
       "        vertical-align: top;\n",
       "    }\n",
       "\n",
       "    .dataframe thead th {\n",
       "        text-align: right;\n",
       "    }\n",
       "</style>\n",
       "<table border=\"1\" class=\"dataframe\">\n",
       "  <thead>\n",
       "    <tr style=\"text-align: right;\">\n",
       "      <th></th>\n",
       "      <th>id_order</th>\n",
       "      <th>id_user</th>\n",
       "      <th>price</th>\n",
       "    </tr>\n",
       "  </thead>\n",
       "  <tbody>\n",
       "    <tr>\n",
       "      <th>count</th>\n",
       "      <td>4.365731e+06</td>\n",
       "      <td>4.365731e+06</td>\n",
       "      <td>4.365731e+06</td>\n",
       "    </tr>\n",
       "    <tr>\n",
       "      <th>mean</th>\n",
       "      <td>5.147334e+06</td>\n",
       "      <td>3.325856e+06</td>\n",
       "      <td>1.603399e+09</td>\n",
       "    </tr>\n",
       "    <tr>\n",
       "      <th>std</th>\n",
       "      <td>3.509189e+06</td>\n",
       "      <td>3.011275e+06</td>\n",
       "      <td>3.350191e+12</td>\n",
       "    </tr>\n",
       "    <tr>\n",
       "      <th>min</th>\n",
       "      <td>1.290000e+02</td>\n",
       "      <td>0.000000e+00</td>\n",
       "      <td>-2.086000e+03</td>\n",
       "    </tr>\n",
       "    <tr>\n",
       "      <th>25%</th>\n",
       "      <td>1.812644e+06</td>\n",
       "      <td>5.880940e+05</td>\n",
       "      <td>7.340000e+02</td>\n",
       "    </tr>\n",
       "    <tr>\n",
       "      <th>50%</th>\n",
       "      <td>5.040464e+06</td>\n",
       "      <td>2.333255e+06</td>\n",
       "      <td>1.386000e+03</td>\n",
       "    </tr>\n",
       "    <tr>\n",
       "      <th>75%</th>\n",
       "      <td>8.403741e+06</td>\n",
       "      <td>5.422811e+06</td>\n",
       "      <td>2.496000e+03</td>\n",
       "    </tr>\n",
       "    <tr>\n",
       "      <th>max</th>\n",
       "      <td>1.697058e+07</td>\n",
       "      <td>9.900289e+06</td>\n",
       "      <td>7.000000e+15</td>\n",
       "    </tr>\n",
       "  </tbody>\n",
       "</table>\n",
       "</div>"
      ],
      "text/plain": [
       "           id_order       id_user         price\n",
       "count  4.365731e+06  4.365731e+06  4.365731e+06\n",
       "mean   5.147334e+06  3.325856e+06  1.603399e+09\n",
       "std    3.509189e+06  3.011275e+06  3.350191e+12\n",
       "min    1.290000e+02  0.000000e+00 -2.086000e+03\n",
       "25%    1.812644e+06  5.880940e+05  7.340000e+02\n",
       "50%    5.040464e+06  2.333255e+06  1.386000e+03\n",
       "75%    8.403741e+06  5.422811e+06  2.496000e+03\n",
       "max    1.697058e+07  9.900289e+06  7.000000e+15"
      ]
     },
     "execution_count": 5,
     "metadata": {},
     "output_type": "execute_result"
    }
   ],
   "source": [
    "df.describe()"
   ]
  },
  {
   "cell_type": "code",
   "execution_count": 6,
   "metadata": {},
   "outputs": [
    {
     "data": {
      "text/plain": [
       "4365731"
      ]
     },
     "execution_count": 6,
     "metadata": {},
     "output_type": "execute_result"
    }
   ],
   "source": [
    "df['id_order'].nunique()"
   ]
  },
  {
   "cell_type": "markdown",
   "metadata": {},
   "source": [
    "Пропусков в колонках `id_order` и `id_user` нет. Все записи в колонке `id_order` уникальные."
   ]
  },
  {
   "cell_type": "code",
   "execution_count": 7,
   "metadata": {},
   "outputs": [
    {
     "data": {
      "text/plain": [
       "4365731"
      ]
     },
     "execution_count": 7,
     "metadata": {},
     "output_type": "execute_result"
    }
   ],
   "source": [
    "initial_count = df.id_order.count()\n",
    "initial_count"
   ]
  },
  {
   "cell_type": "code",
   "execution_count": 8,
   "metadata": {},
   "outputs": [
    {
     "data": {
      "text/plain": [
       "'00.00.0000'"
      ]
     },
     "execution_count": 8,
     "metadata": {},
     "output_type": "execute_result"
    }
   ],
   "source": [
    "df.o_date.min()"
   ]
  },
  {
   "cell_type": "markdown",
   "metadata": {},
   "source": [
    "Нашли явно не валидные данные."
   ]
  },
  {
   "cell_type": "code",
   "execution_count": 9,
   "metadata": {},
   "outputs": [
    {
     "data": {
      "text/plain": [
       "id_order    55492\n",
       "id_user     55492\n",
       "price       55492\n",
       "o_date      55492\n",
       "dtype: int64"
      ]
     },
     "execution_count": 9,
     "metadata": {},
     "output_type": "execute_result"
    }
   ],
   "source": [
    "df.loc[df['o_date'] == '00.00.0000'].count()"
   ]
  },
  {
   "cell_type": "code",
   "execution_count": 10,
   "metadata": {},
   "outputs": [
    {
     "data": {
      "text/html": [
       "<div>\n",
       "<style scoped>\n",
       "    .dataframe tbody tr th:only-of-type {\n",
       "        vertical-align: middle;\n",
       "    }\n",
       "\n",
       "    .dataframe tbody tr th {\n",
       "        vertical-align: top;\n",
       "    }\n",
       "\n",
       "    .dataframe thead th {\n",
       "        text-align: right;\n",
       "    }\n",
       "</style>\n",
       "<table border=\"1\" class=\"dataframe\">\n",
       "  <thead>\n",
       "    <tr style=\"text-align: right;\">\n",
       "      <th></th>\n",
       "      <th>id_order</th>\n",
       "      <th>id_user</th>\n",
       "      <th>price</th>\n",
       "      <th>o_date</th>\n",
       "    </tr>\n",
       "  </thead>\n",
       "  <tbody>\n",
       "    <tr>\n",
       "      <th>2136569</th>\n",
       "      <td>4900219</td>\n",
       "      <td>3764611</td>\n",
       "      <td>0</td>\n",
       "      <td>00.00.0000</td>\n",
       "    </tr>\n",
       "    <tr>\n",
       "      <th>2139866</th>\n",
       "      <td>4909909</td>\n",
       "      <td>3764611</td>\n",
       "      <td>0</td>\n",
       "      <td>00.00.0000</td>\n",
       "    </tr>\n",
       "    <tr>\n",
       "      <th>2139909</th>\n",
       "      <td>4910065</td>\n",
       "      <td>3764611</td>\n",
       "      <td>0</td>\n",
       "      <td>00.00.0000</td>\n",
       "    </tr>\n",
       "    <tr>\n",
       "      <th>2141378</th>\n",
       "      <td>4914559</td>\n",
       "      <td>3764611</td>\n",
       "      <td>0</td>\n",
       "      <td>00.00.0000</td>\n",
       "    </tr>\n",
       "    <tr>\n",
       "      <th>2141974</th>\n",
       "      <td>4916425</td>\n",
       "      <td>3764611</td>\n",
       "      <td>0</td>\n",
       "      <td>00.00.0000</td>\n",
       "    </tr>\n",
       "  </tbody>\n",
       "</table>\n",
       "</div>"
      ],
      "text/plain": [
       "         id_order  id_user  price      o_date\n",
       "2136569   4900219  3764611      0  00.00.0000\n",
       "2139866   4909909  3764611      0  00.00.0000\n",
       "2139909   4910065  3764611      0  00.00.0000\n",
       "2141378   4914559  3764611      0  00.00.0000\n",
       "2141974   4916425  3764611      0  00.00.0000"
      ]
     },
     "execution_count": 10,
     "metadata": {},
     "output_type": "execute_result"
    }
   ],
   "source": [
    "df.loc[df['o_date'] == '00.00.0000'].head()"
   ]
  },
  {
   "cell_type": "code",
   "execution_count": 11,
   "metadata": {},
   "outputs": [
    {
     "data": {
      "text/plain": [
       "id_order    55492\n",
       "id_user     55492\n",
       "price       55492\n",
       "o_date      55492\n",
       "dtype: int64"
      ]
     },
     "execution_count": 11,
     "metadata": {},
     "output_type": "execute_result"
    }
   ],
   "source": [
    "df.loc[(df['o_date'] == '00.00.0000') & (df['price'] == 0)].count()"
   ]
  },
  {
   "cell_type": "markdown",
   "metadata": {},
   "source": [
    "Видим что в записях с невалидной датой цена везде равна нулю. Так что эти данные можно отбросить."
   ]
  },
  {
   "cell_type": "code",
   "execution_count": 12,
   "metadata": {},
   "outputs": [],
   "source": [
    "df.drop(df[(df['o_date'] == '00.00.0000')].index, inplace=True)"
   ]
  },
  {
   "cell_type": "code",
   "execution_count": 13,
   "metadata": {},
   "outputs": [
    {
     "data": {
      "text/plain": [
       "'01.01.2014'"
      ]
     },
     "execution_count": 13,
     "metadata": {},
     "output_type": "execute_result"
    }
   ],
   "source": [
    "df.o_date.min()"
   ]
  },
  {
   "cell_type": "code",
   "execution_count": 14,
   "metadata": {},
   "outputs": [
    {
     "data": {
      "text/plain": [
       "'31.12.2017'"
      ]
     },
     "execution_count": 14,
     "metadata": {},
     "output_type": "execute_result"
    }
   ],
   "source": [
    "df.o_date.max()"
   ]
  },
  {
   "cell_type": "markdown",
   "metadata": {},
   "source": [
    "Поменяем тип данных для колонки `o_date`."
   ]
  },
  {
   "cell_type": "code",
   "execution_count": 15,
   "metadata": {},
   "outputs": [],
   "source": [
    "df['o_date'] = pd.to_datetime(df['o_date'])"
   ]
  },
  {
   "cell_type": "code",
   "execution_count": 16,
   "metadata": {},
   "outputs": [
    {
     "name": "stdout",
     "output_type": "stream",
     "text": [
      "<class 'pandas.core.frame.DataFrame'>\n",
      "Int64Index: 4310239 entries, 0 to 4363046\n",
      "Data columns (total 4 columns):\n",
      "id_order    int64\n",
      "id_user     int64\n",
      "price       int64\n",
      "o_date      datetime64[ns]\n",
      "dtypes: datetime64[ns](1), int64(3)\n",
      "memory usage: 164.4 MB\n"
     ]
    }
   ],
   "source": [
    "df.info()"
   ]
  },
  {
   "cell_type": "code",
   "execution_count": 17,
   "metadata": {},
   "outputs": [
    {
     "data": {
      "text/plain": [
       "Timestamp('2013-01-08 00:00:00')"
      ]
     },
     "execution_count": 17,
     "metadata": {},
     "output_type": "execute_result"
    }
   ],
   "source": [
    "df.o_date.min()"
   ]
  },
  {
   "cell_type": "code",
   "execution_count": 18,
   "metadata": {},
   "outputs": [
    {
     "data": {
      "text/plain": [
       "Timestamp('2018-12-27 00:00:00')"
      ]
     },
     "execution_count": 18,
     "metadata": {},
     "output_type": "execute_result"
    }
   ],
   "source": [
    "df.o_date.max()"
   ]
  },
  {
   "cell_type": "markdown",
   "metadata": {},
   "source": [
    "Теперь избавимся от невалидных данных в колонке `price`."
   ]
  },
  {
   "cell_type": "code",
   "execution_count": 19,
   "metadata": {},
   "outputs": [
    {
     "data": {
      "text/html": [
       "<div>\n",
       "<style scoped>\n",
       "    .dataframe tbody tr th:only-of-type {\n",
       "        vertical-align: middle;\n",
       "    }\n",
       "\n",
       "    .dataframe tbody tr th {\n",
       "        vertical-align: top;\n",
       "    }\n",
       "\n",
       "    .dataframe thead th {\n",
       "        text-align: right;\n",
       "    }\n",
       "</style>\n",
       "<table border=\"1\" class=\"dataframe\">\n",
       "  <thead>\n",
       "    <tr style=\"text-align: right;\">\n",
       "      <th></th>\n",
       "      <th>id_order</th>\n",
       "      <th>id_user</th>\n",
       "      <th>price</th>\n",
       "    </tr>\n",
       "  </thead>\n",
       "  <tbody>\n",
       "    <tr>\n",
       "      <th>count</th>\n",
       "      <td>4.310239e+06</td>\n",
       "      <td>4.310239e+06</td>\n",
       "      <td>4.310239e+06</td>\n",
       "    </tr>\n",
       "    <tr>\n",
       "      <th>mean</th>\n",
       "      <td>5.113639e+06</td>\n",
       "      <td>3.319858e+06</td>\n",
       "      <td>1.624042e+09</td>\n",
       "    </tr>\n",
       "    <tr>\n",
       "      <th>std</th>\n",
       "      <td>3.511263e+06</td>\n",
       "      <td>3.030090e+06</td>\n",
       "      <td>3.371688e+12</td>\n",
       "    </tr>\n",
       "    <tr>\n",
       "      <th>min</th>\n",
       "      <td>1.290000e+02</td>\n",
       "      <td>0.000000e+00</td>\n",
       "      <td>-2.086000e+03</td>\n",
       "    </tr>\n",
       "    <tr>\n",
       "      <th>25%</th>\n",
       "      <td>1.780412e+06</td>\n",
       "      <td>5.694485e+05</td>\n",
       "      <td>7.540000e+02</td>\n",
       "    </tr>\n",
       "    <tr>\n",
       "      <th>50%</th>\n",
       "      <td>4.959950e+06</td>\n",
       "      <td>2.263972e+06</td>\n",
       "      <td>1.400000e+03</td>\n",
       "    </tr>\n",
       "    <tr>\n",
       "      <th>75%</th>\n",
       "      <td>8.376397e+06</td>\n",
       "      <td>5.468550e+06</td>\n",
       "      <td>2.518000e+03</td>\n",
       "    </tr>\n",
       "    <tr>\n",
       "      <th>max</th>\n",
       "      <td>1.098539e+07</td>\n",
       "      <td>9.900289e+06</td>\n",
       "      <td>7.000000e+15</td>\n",
       "    </tr>\n",
       "  </tbody>\n",
       "</table>\n",
       "</div>"
      ],
      "text/plain": [
       "           id_order       id_user         price\n",
       "count  4.310239e+06  4.310239e+06  4.310239e+06\n",
       "mean   5.113639e+06  3.319858e+06  1.624042e+09\n",
       "std    3.511263e+06  3.030090e+06  3.371688e+12\n",
       "min    1.290000e+02  0.000000e+00 -2.086000e+03\n",
       "25%    1.780412e+06  5.694485e+05  7.540000e+02\n",
       "50%    4.959950e+06  2.263972e+06  1.400000e+03\n",
       "75%    8.376397e+06  5.468550e+06  2.518000e+03\n",
       "max    1.098539e+07  9.900289e+06  7.000000e+15"
      ]
     },
     "execution_count": 19,
     "metadata": {},
     "output_type": "execute_result"
    }
   ],
   "source": [
    "df.describe()"
   ]
  },
  {
   "cell_type": "markdown",
   "metadata": {},
   "source": [
    "Для отрицательных значений поменяем знак."
   ]
  },
  {
   "cell_type": "code",
   "execution_count": 20,
   "metadata": {},
   "outputs": [
    {
     "data": {
      "text/plain": [
       "id_order    54\n",
       "id_user     54\n",
       "price       54\n",
       "o_date      54\n",
       "dtype: int64"
      ]
     },
     "execution_count": 20,
     "metadata": {},
     "output_type": "execute_result"
    }
   ],
   "source": [
    "df[df['price'] <= 0].count()"
   ]
  },
  {
   "cell_type": "code",
   "execution_count": 21,
   "metadata": {},
   "outputs": [],
   "source": [
    "df.loc[df['price'] < 0, 'price'] = df.loc[df['price'] < 0, 'price'] * -1"
   ]
  },
  {
   "cell_type": "markdown",
   "metadata": {},
   "source": [
    "В колонке с ценой есть как нулевые данные, так и явные выбросы. Применим интерквартильный размах чтобы избавиться от выбросов."
   ]
  },
  {
   "cell_type": "code",
   "execution_count": 22,
   "metadata": {},
   "outputs": [],
   "source": [
    "IQ=df.price.describe()['75%']-df.price.describe()['25%']\n",
    "low_border=df.price.describe()['25%']-IQ*1.5\n",
    "high_border=df.price.describe()['75%']+IQ*1.5"
   ]
  },
  {
   "cell_type": "code",
   "execution_count": 23,
   "metadata": {},
   "outputs": [
    {
     "name": "stdout",
     "output_type": "stream",
     "text": [
      "1764.0 -1892.0 5164.0\n"
     ]
    }
   ],
   "source": [
    "print(IQ,low_border,high_border)"
   ]
  },
  {
   "cell_type": "code",
   "execution_count": 24,
   "metadata": {},
   "outputs": [
    {
     "data": {
      "text/plain": [
       "342583"
      ]
     },
     "execution_count": 24,
     "metadata": {},
     "output_type": "execute_result"
    }
   ],
   "source": [
    "df.loc[df['price'] > high_border, 'price'].count()"
   ]
  },
  {
   "cell_type": "markdown",
   "metadata": {},
   "source": [
    "Нижняя граница получилась отрицательной, так что избавиться от нулевых данных таким образом не получится. Сперва я приравнял выбросы значений колонки `price` сверху и снизу (заказ менее 50 рублей) к медианному значению. Но потом решил что заказы в 0 рублей вполне могут быть. Например, если клиенту дали 100% скидку за ошибку магазина или не качественный сервис. Так же решил выкинуть данные с выбросами сверху. В конце проверим, какой процент данных мы потеряем."
   ]
  },
  {
   "cell_type": "code",
   "execution_count": 25,
   "metadata": {},
   "outputs": [],
   "source": [
    "df.drop(df[(df['price'] > high_border)].index, inplace=True)"
   ]
  },
  {
   "cell_type": "markdown",
   "metadata": {},
   "source": [
    "Посмотрим, что у нас получилось."
   ]
  },
  {
   "cell_type": "code",
   "execution_count": 26,
   "metadata": {},
   "outputs": [
    {
     "data": {
      "text/html": [
       "<div>\n",
       "<style scoped>\n",
       "    .dataframe tbody tr th:only-of-type {\n",
       "        vertical-align: middle;\n",
       "    }\n",
       "\n",
       "    .dataframe tbody tr th {\n",
       "        vertical-align: top;\n",
       "    }\n",
       "\n",
       "    .dataframe thead th {\n",
       "        text-align: right;\n",
       "    }\n",
       "</style>\n",
       "<table border=\"1\" class=\"dataframe\">\n",
       "  <thead>\n",
       "    <tr style=\"text-align: right;\">\n",
       "      <th></th>\n",
       "      <th>id_order</th>\n",
       "      <th>id_user</th>\n",
       "      <th>price</th>\n",
       "    </tr>\n",
       "  </thead>\n",
       "  <tbody>\n",
       "    <tr>\n",
       "      <th>count</th>\n",
       "      <td>3.967656e+06</td>\n",
       "      <td>3.967656e+06</td>\n",
       "      <td>3.967656e+06</td>\n",
       "    </tr>\n",
       "    <tr>\n",
       "      <th>mean</th>\n",
       "      <td>5.105578e+06</td>\n",
       "      <td>3.306019e+06</td>\n",
       "      <td>1.562793e+03</td>\n",
       "    </tr>\n",
       "    <tr>\n",
       "      <th>std</th>\n",
       "      <td>3.517659e+06</td>\n",
       "      <td>3.033508e+06</td>\n",
       "      <td>1.125650e+03</td>\n",
       "    </tr>\n",
       "    <tr>\n",
       "      <th>min</th>\n",
       "      <td>1.290000e+02</td>\n",
       "      <td>0.000000e+00</td>\n",
       "      <td>0.000000e+00</td>\n",
       "    </tr>\n",
       "    <tr>\n",
       "      <th>25%</th>\n",
       "      <td>1.766375e+06</td>\n",
       "      <td>5.593480e+05</td>\n",
       "      <td>7.100000e+02</td>\n",
       "    </tr>\n",
       "    <tr>\n",
       "      <th>50%</th>\n",
       "      <td>4.928302e+06</td>\n",
       "      <td>2.237073e+06</td>\n",
       "      <td>1.272000e+03</td>\n",
       "    </tr>\n",
       "    <tr>\n",
       "      <th>75%</th>\n",
       "      <td>8.381790e+06</td>\n",
       "      <td>5.454628e+06</td>\n",
       "      <td>2.147000e+03</td>\n",
       "    </tr>\n",
       "    <tr>\n",
       "      <th>max</th>\n",
       "      <td>1.098539e+07</td>\n",
       "      <td>9.900289e+06</td>\n",
       "      <td>5.164000e+03</td>\n",
       "    </tr>\n",
       "  </tbody>\n",
       "</table>\n",
       "</div>"
      ],
      "text/plain": [
       "           id_order       id_user         price\n",
       "count  3.967656e+06  3.967656e+06  3.967656e+06\n",
       "mean   5.105578e+06  3.306019e+06  1.562793e+03\n",
       "std    3.517659e+06  3.033508e+06  1.125650e+03\n",
       "min    1.290000e+02  0.000000e+00  0.000000e+00\n",
       "25%    1.766375e+06  5.593480e+05  7.100000e+02\n",
       "50%    4.928302e+06  2.237073e+06  1.272000e+03\n",
       "75%    8.381790e+06  5.454628e+06  2.147000e+03\n",
       "max    1.098539e+07  9.900289e+06  5.164000e+03"
      ]
     },
     "execution_count": 26,
     "metadata": {},
     "output_type": "execute_result"
    }
   ],
   "source": [
    "df.describe()"
   ]
  },
  {
   "cell_type": "code",
   "execution_count": 27,
   "metadata": {},
   "outputs": [
    {
     "data": {
      "text/plain": [
       "<matplotlib.axes._subplots.AxesSubplot at 0x7f6714518278>"
      ]
     },
     "execution_count": 27,
     "metadata": {},
     "output_type": "execute_result"
    }
   ],
   "source": [
    "df['price'].hist(alpha = 0.5, bins=50, density=True)"
   ]
  },
  {
   "cell_type": "code",
   "execution_count": 28,
   "metadata": {},
   "outputs": [
    {
     "data": {
      "text/plain": [
       "3967656"
      ]
     },
     "execution_count": 28,
     "metadata": {},
     "output_type": "execute_result"
    }
   ],
   "source": [
    "result_count = df.id_order.count()\n",
    "result_count"
   ]
  },
  {
   "cell_type": "code",
   "execution_count": 29,
   "metadata": {},
   "outputs": [
    {
     "data": {
      "text/plain": [
       "9.118175169290092"
      ]
     },
     "execution_count": 29,
     "metadata": {},
     "output_type": "execute_result"
    }
   ],
   "source": [
    "lost_percentage = (initial_count - result_count) * 100 / initial_count\n",
    "lost_percentage"
   ]
  },
  {
   "cell_type": "markdown",
   "metadata": {},
   "source": [
    "Потери в 9% данных вполне приемлемы. Сохраним результат обработки данных в файл."
   ]
  },
  {
   "cell_type": "code",
   "execution_count": 30,
   "metadata": {},
   "outputs": [],
   "source": [
    "df.to_csv(PREPARED_DATASET_PATH, index=False, encoding='utf-8')"
   ]
  },
  {
   "cell_type": "markdown",
   "metadata": {},
   "source": [
    "Исходная задача такая: спрогнозировать ТО по месяцам за 2019. \n",
    "Сгруппируем данные для анализа по дате заказа (год-месяц) и посчитаем сумму заказов по каждому периоду."
   ]
  },
  {
   "cell_type": "code",
   "execution_count": 45,
   "metadata": {},
   "outputs": [],
   "source": [
    "df['year_month'] = pd.to_datetime(df['o_date']).dt.to_period('M')"
   ]
  },
  {
   "cell_type": "code",
   "execution_count": 46,
   "metadata": {},
   "outputs": [
    {
     "data": {
      "text/html": [
       "<div>\n",
       "<style scoped>\n",
       "    .dataframe tbody tr th:only-of-type {\n",
       "        vertical-align: middle;\n",
       "    }\n",
       "\n",
       "    .dataframe tbody tr th {\n",
       "        vertical-align: top;\n",
       "    }\n",
       "\n",
       "    .dataframe thead th {\n",
       "        text-align: right;\n",
       "    }\n",
       "</style>\n",
       "<table border=\"1\" class=\"dataframe\">\n",
       "  <thead>\n",
       "    <tr style=\"text-align: right;\">\n",
       "      <th></th>\n",
       "      <th>id_order</th>\n",
       "      <th>id_user</th>\n",
       "      <th>price</th>\n",
       "      <th>o_date</th>\n",
       "      <th>year_month</th>\n",
       "      <th>sum_price</th>\n",
       "      <th>avg_price</th>\n",
       "    </tr>\n",
       "  </thead>\n",
       "  <tbody>\n",
       "    <tr>\n",
       "      <th>0</th>\n",
       "      <td>129</td>\n",
       "      <td>1</td>\n",
       "      <td>1337</td>\n",
       "      <td>2013-04-26</td>\n",
       "      <td>2013-04</td>\n",
       "      <td>1337</td>\n",
       "      <td>1337</td>\n",
       "    </tr>\n",
       "    <tr>\n",
       "      <th>1</th>\n",
       "      <td>130</td>\n",
       "      <td>155</td>\n",
       "      <td>182</td>\n",
       "      <td>2013-04-26</td>\n",
       "      <td>2013-04</td>\n",
       "      <td>182</td>\n",
       "      <td>182</td>\n",
       "    </tr>\n",
       "    <tr>\n",
       "      <th>2</th>\n",
       "      <td>131</td>\n",
       "      <td>1</td>\n",
       "      <td>602</td>\n",
       "      <td>2013-04-26</td>\n",
       "      <td>2013-04</td>\n",
       "      <td>602</td>\n",
       "      <td>602</td>\n",
       "    </tr>\n",
       "    <tr>\n",
       "      <th>3</th>\n",
       "      <td>132</td>\n",
       "      <td>1</td>\n",
       "      <td>863</td>\n",
       "      <td>2013-04-26</td>\n",
       "      <td>2013-04</td>\n",
       "      <td>863</td>\n",
       "      <td>863</td>\n",
       "    </tr>\n",
       "    <tr>\n",
       "      <th>4</th>\n",
       "      <td>133</td>\n",
       "      <td>1</td>\n",
       "      <td>2261</td>\n",
       "      <td>2013-04-29</td>\n",
       "      <td>2013-04</td>\n",
       "      <td>2261</td>\n",
       "      <td>2261</td>\n",
       "    </tr>\n",
       "  </tbody>\n",
       "</table>\n",
       "</div>"
      ],
      "text/plain": [
       "   id_order  id_user  price     o_date year_month  sum_price  avg_price\n",
       "0       129        1   1337 2013-04-26    2013-04       1337       1337\n",
       "1       130      155    182 2013-04-26    2013-04        182        182\n",
       "2       131        1    602 2013-04-26    2013-04        602        602\n",
       "3       132        1    863 2013-04-26    2013-04        863        863\n",
       "4       133        1   2261 2013-04-29    2013-04       2261       2261"
      ]
     },
     "execution_count": 46,
     "metadata": {},
     "output_type": "execute_result"
    }
   ],
   "source": [
    "df.head()"
   ]
  },
  {
   "cell_type": "code",
   "execution_count": 62,
   "metadata": {},
   "outputs": [],
   "source": [
    "result_df = df \\\n",
    "    .groupby('year_month') \\\n",
    "    .agg({'price': ['sum', 'mean']}) \\\n",
    "    .reset_index() \n"
   ]
  },
  {
   "cell_type": "code",
   "execution_count": 63,
   "metadata": {},
   "outputs": [
    {
     "data": {
      "text/html": [
       "<div>\n",
       "<style scoped>\n",
       "    .dataframe tbody tr th:only-of-type {\n",
       "        vertical-align: middle;\n",
       "    }\n",
       "\n",
       "    .dataframe tbody tr th {\n",
       "        vertical-align: top;\n",
       "    }\n",
       "\n",
       "    .dataframe thead tr th {\n",
       "        text-align: left;\n",
       "    }\n",
       "</style>\n",
       "<table border=\"1\" class=\"dataframe\">\n",
       "  <thead>\n",
       "    <tr>\n",
       "      <th></th>\n",
       "      <th>year_month</th>\n",
       "      <th colspan=\"2\" halign=\"left\">price</th>\n",
       "    </tr>\n",
       "    <tr>\n",
       "      <th></th>\n",
       "      <th></th>\n",
       "      <th>sum</th>\n",
       "      <th>mean</th>\n",
       "    </tr>\n",
       "  </thead>\n",
       "  <tbody>\n",
       "    <tr>\n",
       "      <th>0</th>\n",
       "      <td>2013-01</td>\n",
       "      <td>1036657</td>\n",
       "      <td>1642.879556</td>\n",
       "    </tr>\n",
       "    <tr>\n",
       "      <th>1</th>\n",
       "      <td>2013-02</td>\n",
       "      <td>1231875</td>\n",
       "      <td>1689.814815</td>\n",
       "    </tr>\n",
       "    <tr>\n",
       "      <th>2</th>\n",
       "      <td>2013-03</td>\n",
       "      <td>1390532</td>\n",
       "      <td>1706.174233</td>\n",
       "    </tr>\n",
       "    <tr>\n",
       "      <th>3</th>\n",
       "      <td>2013-04</td>\n",
       "      <td>1301414</td>\n",
       "      <td>1606.683951</td>\n",
       "    </tr>\n",
       "    <tr>\n",
       "      <th>4</th>\n",
       "      <td>2013-05</td>\n",
       "      <td>1489346</td>\n",
       "      <td>1656.669633</td>\n",
       "    </tr>\n",
       "  </tbody>\n",
       "</table>\n",
       "</div>"
      ],
      "text/plain": [
       "  year_month    price             \n",
       "                  sum         mean\n",
       "0    2013-01  1036657  1642.879556\n",
       "1    2013-02  1231875  1689.814815\n",
       "2    2013-03  1390532  1706.174233\n",
       "3    2013-04  1301414  1606.683951\n",
       "4    2013-05  1489346  1656.669633"
      ]
     },
     "execution_count": 63,
     "metadata": {},
     "output_type": "execute_result"
    }
   ],
   "source": [
    "result_df.head()"
   ]
  },
  {
   "cell_type": "markdown",
   "metadata": {},
   "source": [
    "Выгрузим полученные результаты в файл и используем их для дальнейшего анализа."
   ]
  },
  {
   "cell_type": "code",
   "execution_count": 64,
   "metadata": {},
   "outputs": [],
   "source": [
    "result_df.to_csv(RESULT_DATASET_PATH, index=False, encoding='utf-8')"
   ]
  },
  {
   "cell_type": "code",
   "execution_count": null,
   "metadata": {},
   "outputs": [],
   "source": []
  }
 ],
 "metadata": {
  "kernelspec": {
   "display_name": "Python 3",
   "language": "python",
   "name": "python3"
  },
  "language_info": {
   "codemirror_mode": {
    "name": "ipython",
    "version": 3
   },
   "file_extension": ".py",
   "mimetype": "text/x-python",
   "name": "python",
   "nbconvert_exporter": "python",
   "pygments_lexer": "ipython3",
   "version": "3.6.8"
  }
 },
 "nbformat": 4,
 "nbformat_minor": 2
}
